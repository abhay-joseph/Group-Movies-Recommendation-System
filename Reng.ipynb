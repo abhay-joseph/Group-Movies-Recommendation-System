{
  "nbformat": 4,
  "nbformat_minor": 0,
  "metadata": {
    "colab": {
      "name": "Reng.ipynb",
      "provenance": [],
      "collapsed_sections": [],
      "include_colab_link": true
    },
    "kernelspec": {
      "name": "python3",
      "display_name": "Python 3"
    },
    "language_info": {
      "name": "python"
    }
  },
  "cells": [
    {
      "cell_type": "markdown",
      "metadata": {
        "id": "view-in-github",
        "colab_type": "text"
      },
      "source": [
        "<a href=\"https://colab.research.google.com/github/ahmed-elzamarany/Movies_Recommendation_System/blob/main/Reng.ipynb\" target=\"_parent\"><img src=\"https://colab.research.google.com/assets/colab-badge.svg\" alt=\"Open In Colab\"/></a>"
      ]
    },
    {
      "cell_type": "code",
      "execution_count": null,
      "metadata": {
        "id": "ENcTrUSI-lr-",
        "colab": {
          "base_uri": "https://localhost:8080/"
        },
        "outputId": "68c7d7b9-de5d-45f6-d2a4-38dd745e17b3"
      },
      "outputs": [
        {
          "output_type": "stream",
          "name": "stderr",
          "text": [
            "/usr/local/lib/python3.7/dist-packages/requests/__init__.py:91: RequestsDependencyWarning: urllib3 (1.26.9) or chardet (3.0.4) doesn't match a supported version!\n",
            "  RequestsDependencyWarning)\n"
          ]
        },
        {
          "output_type": "stream",
          "name": "stdout",
          "text": [
            "1 - 刺激1995 (1994) - Starring: Frank Darabont (dir.), Tim Robbins, Morgan Freeman 9.233602811341296 /title/tt0111161/\n",
            "2 - 教父 (1972) - Starring: Francis Ford Coppola (dir.), Marlon Brando, Al Pacino 9.155661280729705 /title/tt0068646/\n",
            "3 - 黑暗騎士 (2008) - Starring: Christopher Nolan (dir.), Christian Bale, Heath Ledger 8.984640500687359 /title/tt0468569/\n",
            "4 - 教父第二集 (1974) - Starring: Francis Ford Coppola (dir.), Al Pacino, Robert De Niro 8.98383588515172 /title/tt0071562/\n",
            "5 - 十二怒漢 (1957) - Starring: Sidney Lumet (dir.), Henry Fonda, Lee J. Cobb 8.946821184307101 /title/tt0050083/\n",
            "6 - 辛德勒的名單 (1993) - Starring: Steven Spielberg (dir.), Liam Neeson, Ralph Fiennes 8.93481762313448 /title/tt0108052/\n",
            "7 - 魔戒三部曲：王者再臨 (2003) - Starring: Peter Jackson (dir.), Elijah Wood, Viggo Mortensen 8.9201829790483 /title/tt0167260/\n",
            "8 - 黑色追緝令 (1994) - Starring: Quentin Tarantino (dir.), John Travolta, Uma Thurman 8.851336405874747 /title/tt0110912/\n",
            "9 - 魔戒首部曲：魔戒現身 (2001) - Starring: Peter Jackson (dir.), Elijah Wood, Ian McKellen 8.803095823744924 /title/tt0120737/\n",
            "1 -  黃昏三鏢客 (1966) - Starring: Sergio Leone (dir.), Clint Eastwood, Eli Wallach 8.794291516318202 /title/tt0060196/\n",
            "11 - 阿甘正傳 (1994) - Starring: Robert Zemeckis (dir.), Tom Hanks, Robin Wright 8.767226895407473 /title/tt0109830/\n",
            "12 - 鬥陣俱樂部 (1999) - Starring: David Fincher (dir.), Brad Pitt, Edward Norton 8.750528074403228 /title/tt0137523/\n",
            "13 - 全面啟動 (2010) - Starring: Christopher Nolan (dir.), Leonardo DiCaprio, Joseph Gordon-Levitt 8.732899429403624 /title/tt1375666/\n",
            "14 - 魔戒二部曲：雙城奇謀 (2002) - Starring: Peter Jackson (dir.), Elijah Wood, Ian McKellen 8.727123167424589 /title/tt0167261/\n",
            "15 - 星際大戰五部曲：帝國大反擊 (1980) - Starring: Irvin Kershner (dir.), Mark Hamill, Harrison Ford 8.701812337444933 /title/tt0080684/\n",
            "16 - 駭客任務 (1999) - Starring: Lana Wachowski (dir.), Keanu Reeves, Laurence Fishburne 8.6712233804051 /title/tt0133093/\n",
            "17 - 四海好傢伙 (1990) - Starring: Martin Scorsese (dir.), Robert De Niro, Ray Liotta 8.6506099090729 /title/tt0099685/\n",
            "18 - 飛越杜鵑窩 (1975) - Starring: Milos Forman (dir.), Jack Nicholson, Louise Fletcher 8.641710587959345 /title/tt0073486/\n",
            "19 - 火線追緝令 (1995) - Starring: David Fincher (dir.), Morgan Freeman, Brad Pitt 8.603792526381426 /title/tt0114369/\n",
            "20 - 七武士 (1954) - Starring: Akira Kurosawa (dir.), Toshirô Mifune, Takashi Shimura 8.599359066306835 /title/tt0047478/\n",
            "21 - 風雲人物 (1946) - Starring: Frank Capra (dir.), James Stewart, Donna Reed 8.59716642273916 /title/tt0038650/\n",
            "22 - 沉默的羔羊 (1991) - Starring: Jonathan Demme (dir.), Jodie Foster, Anthony Hopkins 8.587971236701202 /title/tt0102926/\n",
            "23 - 無法無天 (2002) - Starring: Fernando Meirelles (dir.), Alexandre Rodrigues, Leandro Firmino 8.579162727987669 /title/tt0317248/\n",
            "24 - 搶救雷恩大兵 (1998) - Starring: Steven Spielberg (dir.), Tom Hanks, Matt Damon 8.577209433120897 /title/tt0120815/\n",
            "25 - 美麗人生 (1997) - Starring: Roberto Benigni (dir.), Roberto Benigni, Nicoletta Braschi 8.566037843265839 /title/tt0118799/\n",
            "26 - 綠色奇蹟 (1999) - Starring: Frank Darabont (dir.), Tom Hanks, Michael Clarke Duncan 8.559282888932083 /title/tt0120689/\n",
            "27 - 星際大戰 (1977) - Starring: George Lucas (dir.), Mark Hamill, Harrison Ford 8.554817800121315 /title/tt0076759/\n",
            "28 - 星際效應 (2014) - Starring: Christopher Nolan (dir.), Matthew McConaughey, Anne Hathaway 8.553663752221425 /title/tt0816692/\n",
            "29 - 魔鬼終結者2 (1991) - Starring: James Cameron (dir.), Arnold Schwarzenegger, Linda Hamilton 8.53460578572504 /title/tt0103064/\n",
            "30 - 回到未來 (1985) - Starring: Robert Zemeckis (dir.), Michael J. Fox, Christopher Lloyd 8.517793310297842 /title/tt0088763/\n",
            "31 - 神隱少女 (2001) - Starring: Hayao Miyazaki (dir.), Daveigh Chase, Suzanne Pleshette 8.515141451195207 /title/tt0245429/\n",
            "32 - 驚魂記 (1960) - Starring: Alfred Hitchcock (dir.), Anthony Perkins, Janet Leigh 8.508722061363839 /title/tt0054215/\n",
            "33 - 戰地琴人 (2002) - Starring: Roman Polanski (dir.), Adrien Brody, Thomas Kretschmann 8.504511741370212 /title/tt0253474/\n",
            "34 - 終極追殺令 (1994) - Starring: Luc Besson (dir.), Jean Reno, Gary Oldman 8.501583472467505 /title/tt0110413/\n",
            "35 - 寄生上流 (2019) - Starring: Bong Joon Ho (dir.), Kang-ho Song, Sun-kyun Lee 8.495432777378957 /title/tt6751668/\n",
            "36 - 獅子王 (1994) - Starring: Roger Allers (dir.), Matthew Broderick, Jeremy Irons 8.488428134779625 /title/tt0110357/\n",
            "37 - 美國X檔案 (1998) - Starring: Tony Kaye (dir.), Edward Norton, Edward Furlong 8.48510432420664 /title/tt0120586/\n",
            "38 - 神鬼戰士 (2000) - Starring: Ridley Scott (dir.), Russell Crowe, Joaquin Phoenix 8.484928360034651 /title/tt0172495/\n",
            "39 - 刺激驚爆點 (1995) - Starring: Bryan Singer (dir.), Kevin Spacey, Gabriel Byrne 8.47755836778893 /title/tt0114814/\n",
            "40 - 神鬼無間 (2006) - Starring: Martin Scorsese (dir.), Leonardo DiCaprio, Matt Damon 8.47492859238322 /title/tt0407887/\n",
            "41 - 頂尖對決 (2006) - Starring: Christopher Nolan (dir.), Christian Bale, Hugh Jackman 8.467777218809905 /title/tt0482571/\n",
            "42 - 北非諜影 (1942) - Starring: Michael Curtiz (dir.), Humphrey Bogart, Ingrid Bergman 8.465950988943765 /title/tt0034583/\n",
            "43 - 進擊的鼓手 (2014) - Starring: Damien Chazelle (dir.), Miles Teller, J.K. Simmons 8.459258721475308 /title/tt2582802/\n",
            "44 - 逆轉人生 (2011) - Starring: Olivier Nakache (dir.), François Cluzet, Omar Sy 8.454446797608806 /title/tt1675434/\n",
            "45 - 摩登時代 (1936) - Starring: Charles Chaplin (dir.), Charles Chaplin, Paulette Goddard 8.450235997443915 /title/tt0027977/\n",
            "46 - 切腹 (1962) - Starring: Masaki Kobayashi (dir.), Tatsuya Nakadai, Akira Ishihama 8.448940368244697 /title/tt0056058/\n",
            "47 - 狂沙十萬里 (1968) - Starring: Sergio Leone (dir.), Henry Fonda, Charles Bronson 8.448715459236004 /title/tt0064116/\n",
            "48 - 螢火蟲之墓 (1988) - Starring: Isao Takahata (dir.), Tsutomu Tatsumi, Ayano Shiraishi 8.446448521477642 /title/tt0095327/\n",
            "49 - 後窗 (1954) - Starring: Alfred Hitchcock (dir.), James Stewart, Grace Kelly 8.437584750515224 /title/tt0047396/\n",
            "50 - 異形 (1979) - Starring: Ridley Scott (dir.), Sigourney Weaver, Tom Skerritt 8.435507655799796 /title/tt0078748/\n",
            "51 - 城市之光 (1931) - Starring: Charles Chaplin (dir.), Charles Chaplin, Virginia Cherrill 8.434700732893901 /title/tt0021749/\n",
            "52 - 新天堂樂園 (1988) - Starring: Giuseppe Tornatore (dir.), Philippe Noiret, Enzo Cannavale 8.428728054291517 /title/tt0095765/\n",
            "53 - 記憶拼圖 (2000) - Starring: Christopher Nolan (dir.), Guy Pearce, Carrie-Anne Moss 8.42668614524509 /title/tt0209144/\n",
            "54 - 媽的多重宇宙 (2022) - Starring: Dan Kwan (dir.), Michelle Yeoh, Stephanie Hsu 8.426476165621834 /title/tt6710474/\n",
            "55 - 現代啟示錄 (1979) - Starring: Francis Ford Coppola (dir.), Martin Sheen, Marlon Brando 8.425574372644338 /title/tt0078788/\n",
            "56 - 法櫃奇兵 (1981) - Starring: Steven Spielberg (dir.), Harrison Ford, Karen Allen 8.41215640571996 /title/tt0082971/\n",
            "57 - 決殺令 (2012) - Starring: Quentin Tarantino (dir.), Jamie Foxx, Christoph Waltz 8.401937653230798 /title/tt1853728/\n",
            "58 - 瓦力 (2008) - Starring: Andrew Stanton (dir.), Ben Burtt, Elissa Knight 8.392246721515992 /title/tt0910970/\n",
            "59 - 竊聽風暴 (2006) - Starring: Florian Henckel von Donnersmarck (dir.), Ulrich Mühe, Martina Gedeck 8.386795332231186 /title/tt0405094/\n",
            "60 - 日落大道 (1950) - Starring: Billy Wilder (dir.), William Holden, Gloria Swanson 8.383496759063942 /title/tt0043014/\n",
            "61 - 光榮之路 (1957) - Starring: Stanley Kubrick (dir.), Kirk Douglas, Ralph Meeker 8.370766355603523 /title/tt0050825/\n",
            "62 - 鬼店 (1980) - Starring: Stanley Kubrick (dir.), Jack Nicholson, Shelley Duvall 8.36819125015075 /title/tt0081505/\n",
            "63 - 大獨裁者 (1940) - Starring: Charles Chaplin (dir.), Charles Chaplin, Paulette Goddard 8.366838872615798 /title/tt0032553/\n",
            "64 - 情婦 (1957) - Starring: Billy Wilder (dir.), Tyrone Power, Marlene Dietrich 8.356442009354968 /title/tt0051201/\n",
            "65 - 復仇者聯盟：無限之戰 (2018) - Starring: Anthony Russo (dir.), Robert Downey Jr., Chris Hemsworth 8.353800822000592 /title/tt4154756/\n",
            "66 - 異形2 (1986) - Starring: James Cameron (dir.), Sigourney Weaver, Michael Biehn 8.344591248667504 /title/tt0090605/\n",
            "67 - 美國心玫瑰情 (1999) - Starring: Sam Mendes (dir.), Kevin Spacey, Annette Bening 8.339085826558204 /title/tt0169547/\n",
            "68 - 奇愛博士 (1964) - Starring: Stanley Kubrick (dir.), Peter Sellers, George C. Scott 8.334494059189526 /title/tt0057012/\n",
            "69 - 黑暗騎士：黎明昇起 (2012) - Starring: Christopher Nolan (dir.), Christian Bale, Tom Hardy 8.32927346774873 /title/tt1345836/\n",
            "70 - 蜘蛛人：新宇宙 (2018) - Starring: Bob Persichetti (dir.), Shameik Moore, Jake Johnson 8.327052774687631 /title/tt4633694/\n",
            "71 - 小丑 (2019) - Starring: Todd Phillips (dir.), Joaquin Phoenix, Robert De Niro 8.320770003900561 /title/tt7286456/\n",
            "72 - 原罪犯 (2003) - Starring: Park Chan-wook (dir.), Choi Min-sik, Yoo Ji-Tae 8.319995694381385 /title/tt0364569/\n",
            "73 - 梅爾吉勃遜之英雄本色 (1995) - Starring: Mel Gibson (dir.), Mel Gibson, Sophie Marceau 8.315771252000818 /title/tt0112573/\n",
            "74 - 阿瑪迪斯 (1984) - Starring: Milos Forman (dir.), F. Murray Abraham, Tom Hulce 8.315282907524233 /title/tt0086879/\n",
            "75 - 玩具總動員 (1995) - Starring: John Lasseter (dir.), Tom Hanks, Tim Allen 8.314292795637256 /title/tt0114709/\n",
            "76 - 可可夜總會 (2017) - Starring: Lee Unkrich (dir.), Anthony Gonzalez, Gael García Bernal 8.312195706278466 /title/tt2380307/\n",
            "77 - 從海底出擊 (1981) - Starring: Wolfgang Petersen (dir.), Jürgen Prochnow, Herbert Grönemeyer 8.312103177316507 /title/tt0082096/\n",
            "78 - 惡棍特工 (2009) - Starring: Quentin Tarantino (dir.), Brad Pitt, Diane Kruger 8.310080032063553 /title/tt0361748/\n",
            "79 - 魔法公主 (1997) - Starring: Hayao Miyazaki (dir.), Yôji Matsuda, Yuriko Ishida 8.303989417621267 /title/tt0119698/\n",
            "80 - 四海兄弟 (1984) - Starring: Sergio Leone (dir.), Robert De Niro, James Woods 8.302394077191446 /title/tt0087843/\n",
            "81 - 復仇者聯盟：終局之戰 (2019) - Starring: Anthony Russo (dir.), Robert Downey Jr., Chris Evans 8.29988119853489 /title/tt4154796/\n",
            "82 - 心靈捕手 (1997) - Starring: Gus Van Sant (dir.), Robin Williams, Matt Damon 8.285965182002007 /title/tt0119217/\n",
            "83 - 噩夢輓歌 (2000) - Starring: Darren Aronofsky (dir.), Ellen Burstyn, Jared Leto 8.277828803588243 /title/tt0180093/\n",
            "84 - 玩具總動員3 (2010) - Starring: Lee Unkrich (dir.), Tom Hanks, Tim Allen 8.277212958676234 /title/tt0435761/\n",
            "85 - 萬花嬉春 (1952) - Starring: Stanley Donen (dir.), Gene Kelly, Donald O'Connor 8.273807269968945 /title/tt0045152/\n",
            "86 - 你的名字 (2016) - Starring: Makoto Shinkai (dir.), Ryûnosuke Kamiki, Mone Kamishiraishi 8.27351644488663 /title/tt5311514/\n",
            "87 - 星際大戰六部曲：絕地大反攻 (1983) - Starring: Richard Marquand (dir.), Mark Hamill, Harrison Ford 8.26859232951527 /title/tt0086190/\n",
            "88 - 三個傻瓜 (2009) - Starring: Rajkumar Hirani (dir.), Aamir Khan, Madhavan 8.26851223188459 /title/tt1187043/\n",
            "89 - 2001：太空漫遊 (1968) - Starring: Stanley Kubrick (dir.), Keir Dullea, Gary Lockwood 8.26648536378104 /title/tt0062622/\n",
            "90 - 霸道橫行 (1992) - Starring: Quentin Tarantino (dir.), Harvey Keitel, Tim Roth 8.265434213768946 /title/tt0105236/\n",
            "91 - 王牌冤家 (2004) - Starring: Michel Gondry (dir.), Jim Carrey, Kate Winslet 8.265281836893072 /title/tt0338013/\n",
            "92 - 天國與地獄 (1963) - Starring: Akira Kurosawa (dir.), Toshirô Mifune, Yutaka Sada 8.262079611466707 /title/tt0057565/\n",
            "93 - 大國民 (1941) - Starring: Orson Welles (dir.), Orson Welles, Joseph Cotten 8.259138924785635 /title/tt0033467/\n",
            "94 - 我想有個家 (2018) - Starring: Nadine Labaki (dir.), Zain Al Rafeea, Yordanos Shiferaw 8.257982636889546 /title/tt8267604/\n",
            "95 - 阿拉伯的勞倫斯 (1962) - Starring: David Lean (dir.), Peter O'Toole, Alec Guinness 8.256844636767768 /title/tt0056172/\n",
            "96 - M就是兇手 (1931) - Starring: Fritz Lang (dir.), Peter Lorre, Ellen Widmann 8.255433772871754 /title/tt0022100/\n",
            "97 - 謊言的烙印 (2012) - Starring: Thomas Vinterberg (dir.), Mads Mikkelsen, Thomas Bo Larsen 8.254671822548774 /title/tt2106476/\n",
            "98 - 北西北 (1959) - Starring: Alfred Hitchcock (dir.), Cary Grant, Eva Marie Saint 8.254373021167979 /title/tt0053125/\n",
            "99 - 迷魂記 (1958) - Starring: Alfred Hitchcock (dir.), James Stewart, Kim Novak 8.248614267000082 /title/tt0052357/\n",
            "10 -  艾蜜莉的異想世界 (2001) - Starring: Jean-Pierre Jeunet (dir.), Audrey Tautou, Mathieu Kassovitz 8.247437651973254 /title/tt0211915/\n",
            "101 - 發條橘子 (1971) - Starring: Stanley Kubrick (dir.), Malcolm McDowell, Patrick Magee 8.245742578653536 /title/tt0066921/\n",
            "102 - 蜘蛛人：無家日 (2021) - Starring: Jon Watts (dir.), Tom Holland, Zendaya 8.24319376217784 /title/tt10872600/\n",
            "103 - 見證 (1985) - Starring: Elem Klimov (dir.), Aleksey Kravchenko, Olga Mironova 8.242667303850615 /title/tt0091251/\n",
            "104 - 金甲部隊 (1987) - Starring: Stanley Kubrick (dir.), Matthew Modine, R. Lee Ermey 8.240589117283658 /title/tt0093058/\n",
            "105 - 雙重賠償 (1944) - Starring: Billy Wilder (dir.), Fred MacMurray, Barbara Stanwyck 8.238251931355622 /title/tt0036775/\n",
            "106 - 公寓春光 (1960) - Starring: Billy Wilder (dir.), Jack Lemmon, Shirley MacLaine 8.237308469445336 /title/tt0053604/\n",
            "107 - 疤面煞星 (1983) - Starring: Brian De Palma (dir.), Al Pacino, Michelle Pfeiffer 8.235138883500776 /title/tt0086250/\n",
            "108 - 計程車司機 (1976) - Starring: Martin Scorsese (dir.), Robert De Niro, Jodie Foster 8.22950117136144 /title/tt0075314/\n",
            "109 - 梅崗城故事 (1962) - Starring: Robert Mulligan (dir.), Gregory Peck, John Megna 8.229481299537175 /title/tt0056592/\n",
            "110 - 生之慾 (1952) - Starring: Akira Kurosawa (dir.), Takashi Shimura, Nobuo Kaneko 8.229201340336038 /title/tt0044741/\n",
            "111 - 刺激 (1973) - Starring: George Roy Hill (dir.), Paul Newman, Robert Redford 8.229106982316697 /title/tt0070735/\n",
            "112 - 漢密爾頓 (2020) - Starring: Thomas Kail (dir.), Lin-Manuel Miranda, Phillipa Soo 8.226470941214375 /title/tt8503618/\n",
            "113 - 鐵面特警隊 (1997) - Starring: Curtis Hanson (dir.), Kevin Spacey, Russell Crowe 8.225967079579114 /title/tt0119488/\n",
            "114 - 天外奇蹟 (2009) - Starring: Pete Docter (dir.), Edward Asner, Jordan Nagai 8.22412855608274 /title/tt1049413/\n",
            "115 - 烈火悍將 (1995) - Starring: Michael Mann (dir.), Al Pacino, Robert De Niro 8.222801072319331 /title/tt0113277/\n",
            "116 - 大都會 (1927) - Starring: Fritz Lang (dir.), Brigitte Helm, Alfred Abel 8.221399251102081 /title/tt0017136/\n",
            "117 - 偷拐搶騙 (2000) - Starring: Guy Ritchie (dir.), Jason Statham, Brad Pitt 8.220949022592157 /title/tt0208092/\n",
            "118 - 分居風暴 (2011) - Starring: Asghar Farhadi (dir.), Payman Maadi, Leila Hatami 8.220705657836923 /title/tt1832382/\n",
            "119 - 終極警探 (1988) - Starring: John McTiernan (dir.), Bruce Willis, Alan Rickman 8.220265590374497 /title/tt0095016/\n",
            "120 - 烈火焚身 (2010) - Starring: Denis Villeneuve (dir.), Lubna Azabal, Mélissa Désormeaux-Poulin 8.218714796828328 /title/tt1255953/\n",
            "121 - 聖戰奇兵 (1989) - Starring: Steven Spielberg (dir.), Harrison Ford, Sean Connery 8.218518958771437 /title/tt0097576/\n",
            "122 - 單車失竊記 (1948) - Starring: Vittorio De Sica (dir.), Lamberto Maggiorani, Enzo Staiola 8.21831929065085 /title/tt0040522/\n",
            "123 - 1917 (2019) - Starring: Sam Mendes (dir.), Dean-Charles Chapman, George MacKay 8.212517795880853 /title/tt8579674/\n",
            "124 - 心中的小星星 (2007) - Starring: Aamir Khan (dir.), Darsheel Safary, Aamir Khan 8.206484559292544 /title/tt0986264/\n",
            "125 - 帝國毀滅 (2004) - Starring: Oliver Hirschbiegel (dir.), Bruno Ganz, Alexandra Maria Lara 8.204851012020598 /title/tt0363163/\n",
            "126 - 黃昏雙鏢客 (1965) - Starring: Sergio Leone (dir.), Clint Eastwood, Lee Van Cleef 8.203871888697872 /title/tt0059578/\n",
            "127 - 蝙蝠俠：開戰時刻 (2005) - Starring: Christopher Nolan (dir.), Christian Bale, Michael Caine 8.202906408325163 /title/tt0372784/\n",
            "128 - 我和我的冠軍女兒 (2016) - Starring: Nitesh Tiwari (dir.), Aamir Khan, Sakshi Tanwar 8.198219657077777 /title/tt5074352/\n",
            "129 - 孤兒流浪記 (1921) - Starring: Charles Chaplin (dir.), Charles Chaplin, Edna Purviance 8.195066511865422 /title/tt0012349/\n",
            "130 - 熱情如火 (1959) - Starring: Billy Wilder (dir.), Marilyn Monroe, Tony Curtis 8.191748077537282 /title/tt0053291/\n",
            "131 - 父親 (2020) - Starring: Florian Zeller (dir.), Anthony Hopkins, Olivia Colman 8.184420654509971 /title/tt10272386/\n",
            "132 - 彗星美人 (1950) - Starring: Joseph L. Mankiewicz (dir.), Bette Davis, Anne Baxter 8.180178133722181 /title/tt0042192/\n",
            "133 - 幸福綠皮書 (2018) - Starring: Peter Farrelly (dir.), Viggo Mortensen, Mahershala Ali 8.174260553399492 /title/tt6966692/\n",
            "134 - 華爾街之狼 (2013) - Starring: Martin Scorsese (dir.), Leonardo DiCaprio, Jonah Hill 8.17067193770918 /title/tt0993846/\n",
            "135 - 紐倫堡大審 (1961) - Starring: Stanley Kramer (dir.), Spencer Tracy, Burt Lancaster 8.16806961697131 /title/tt0055031/\n",
            "136 - 殺無赦 (1992) - Starring: Clint Eastwood (dir.), Clint Eastwood, Gene Hackman 8.165332572353593 /title/tt0105695/\n",
            "137 - 羊男的迷宮 (2006) - Starring: Guillermo del Toro (dir.), Ivana Baquero, Ariadna Gil 8.164116536711173 /title/tt0457430/\n",
            "138 - 賭國風雲 (1995) - Starring: Martin Scorsese (dir.), Robert De Niro, Sharon Stone 8.163640338083342 /title/tt0112641/\n",
            "139 - 亂 (1985) - Starring: Akira Kurosawa (dir.), Tatsuya Nakadai, Akira Terao 8.163137159766531 /title/tt0089881/\n",
            "140 - 黑金企業 (2007) - Starring: Paul Thomas Anderson (dir.), Daniel Day-Lewis, Paul Dano 8.153926193822727 /title/tt0469494/\n",
            "141 - 聖杯傳奇 (1975) - Starring: Terry Gilliam (dir.), Graham Chapman, John Cleese 8.153616548733917 /title/tt0071853/\n",
            "142 - 美麗境界 (2001) - Starring: Ron Howard (dir.), Russell Crowe, Ed Harris 8.15354477039887 /title/tt0268978/\n",
            "143 - 靈異第六感 (1999) - Starring: M. Night Shyamalan (dir.), Bruce Willis, Haley Joel Osment 8.153521622691052 /title/tt0167404/\n",
            "144 - 楚門的世界 (1998) - Starring: Peter Weir (dir.), Jim Carrey, Ed Harris 8.150233995814881 /title/tt0120382/\n",
            "145 - 大鏢客 (1961) - Starring: Akira Kurosawa (dir.), Toshirô Mifune, Eijirô Tôno 8.149477687683282 /title/tt0055630/\n",
            "146 - 碧血金沙 (1948) - Starring: John Huston (dir.), Humphrey Bogart, Walter Huston 8.148249230929732 /title/tt0040897/\n",
            "147 - 羅生門 (1950) - Starring: Akira Kurosawa (dir.), Toshirô Mifune, Machiko Kyô 8.143689101040735 /title/tt0042876/\n",
            "148 - 第三集中營 (1963) - Starring: John Sturges (dir.), Steve McQueen, James Garner 8.142931697159536 /title/tt0057115/\n",
            "149 - 隔離島 (2010) - Starring: Martin Scorsese (dir.), Leonardo DiCaprio, Emily Mortimer 8.141711499216694 /title/tt1130884/\n",
            "150 - 追殺比爾 (2003) - Starring: Quentin Tarantino (dir.), Uma Thurman, David Carradine 8.137060715967781 /title/tt0266697/\n",
            "151 - 侏儸紀公園 (1993) - Starring: Steven Spielberg (dir.), Sam Neill, Laura Dern 8.136495656938237 /title/tt0107290/\n",
            "152 - 險路勿近 (2007) - Starring: Ethan Coen (dir.), Tommy Lee Jones, Javier Bardem 8.134791134281185 /title/tt0477348/\n",
            "153 - 象人 (1980) - Starring: David Lynch (dir.), Anthony Hopkins, John Hurt 8.131577582487854 /title/tt0080678/\n",
            "154 - 海底總動員 (2003) - Starring: Andrew Stanton (dir.), Albert Brooks, Ellen DeGeneres 8.13114177096379 /title/tt0266543/\n",
            "155 - 蠻牛 (1980) - Starring: Martin Scorsese (dir.), Robert De Niro, Cathy Moriarty 8.130810957339204 /title/tt0081398/\n",
            "156 - 唐人街 (1974) - Starring: Roman Polanski (dir.), Jack Nicholson, Faye Dunaway 8.12953533701487 /title/tt0071315/\n",
            "157 - 亂世佳人 (1939) - Starring: Victor Fleming (dir.), Clark Gable, Vivien Leigh 8.127713600148711 /title/tt0031381/\n",
            "158 - V怪客 (2005) - Starring: James McTeigue (dir.), Hugo Weaving, Natalie Portman 8.126739185826663 /title/tt0434409/\n",
            "159 - 腦筋急轉彎 (2015) - Starring: Pete Docter (dir.), Amy Poehler, Bill Hader 8.125277669592634 /title/tt2096673/\n",
            "160 - 兩根槍管 (1998) - Starring: Guy Ritchie (dir.), Jason Flemyng, Dexter Fletcher 8.124245314230649 /title/tt0120735/\n",
            "161 - 突變第三型 (1982) - Starring: John Carpenter (dir.), Kurt Russell, Wilford Brimley 8.123495809338992 /title/tt0084787/\n",
            "162 - 電話情殺案 (1954) - Starring: Alfred Hitchcock (dir.), Ray Milland, Grace Kelly 8.119372826910558 /title/tt0046912/\n",
            "163 - 謎樣的雙眼 (2009) - Starring: Juan José Campanella (dir.), Ricardo Darín, Soledad Villamil 8.118617208125267 /title/tt1305806/\n",
            "164 - 桂河大橋 (1957) - Starring: David Lean (dir.), William Holden, Alec Guinness 8.115400757418527 /title/tt0050212/\n",
            "165 - 霍爾的移動城堡 (2004) - Starring: Hayao Miyazaki (dir.), Chieko Baishô, Takuya Kimura 8.114091519196794 /title/tt0347149/\n",
            "166 - 意外 (2017) - Starring: Martin McDonagh (dir.), Frances McDormand, Woody Harrelson 8.111902917057977 /title/tt5027774/\n",
            "167 - 猜火車 (1996) - Starring: Danny Boyle (dir.), Ewan McGregor, Ewen Bremner 8.111867563961034 /title/tt0117951/\n",
            "168 - 經典老爺車 (2008) - Starring: Clint Eastwood (dir.), Clint Eastwood, Bee Vang 8.10612185720327 /title/tt1205489/\n",
            "169 - 勇者無敵 (2011) - Starring: Gavin O'Connor (dir.), Tom Hardy, Nick Nolte 8.1056486690613 /title/tt1291584/\n",
            "170 - 冰血暴 (1996) - Starring: Joel Coen (dir.), William H. Macy, Frances McDormand 8.103547092004543 /title/tt0116282/\n",
            "171 - 龍貓 (1988) - Starring: Hayao Miyazaki (dir.), Hitoshi Takagi, Noriko Hidaka 8.096017897220719 /title/tt0096283/\n",
            "172 - 私法爭鋒 (2013) - Starring: Denis Villeneuve (dir.), Hugh Jackman, Jake Gyllenhaal 8.09351591699953 /title/tt1392214/\n",
            "173 - 登峰造擊 (2004) - Starring: Clint Eastwood (dir.), Hilary Swank, Clint Eastwood 8.090367692455457 /title/tt0405159/\n",
            "174 - 淘金記 (1925) - Starring: Charles Chaplin (dir.), Charles Chaplin, Mack Swain 8.087996542724229 /title/tt0015864/\n",
            "175 - 銀翼殺手 (1982) - Starring: Ridley Scott (dir.), Harrison Ford, Rutger Hauer 8.087238953362046 /title/tt0083658/\n",
            "176 - 岸上風雲 (1954) - Starring: Elia Kazan (dir.), Marlon Brando, Karl Malden 8.085644174481132 /title/tt0047296/\n",
            "177 - 神鬼交鋒 (2002) - Starring: Steven Spielberg (dir.), Leonardo DiCaprio, Tom Hanks 8.085292431825847 /title/tt0264464/\n",
            "178 - 黑獄亡魂 (1949) - Starring: Carol Reed (dir.), Orson Welles, Joseph Cotten 8.083196638171273 /title/tt0041959/\n",
            "179 - 天堂的孩子 (1997) - Starring: Majid Majidi (dir.), Mohammad Amir Naji, Amir Farrokh Hashemian 8.081676010651707 /title/tt0118849/\n",
            "180 - 賓漢 (1959) - Starring: William Wyler (dir.), Charlton Heston, Jack Hawkins 8.078903783560087 /title/tt0052618/\n",
            "181 - 將軍號 (1926) - Starring: Clyde Bruckman (dir.), Buster Keaton, Marion Mack 8.078741123339407 /title/tt0017925/\n",
            "182 - 自由之心 (2013) - Starring: Steve McQueen (dir.), Chiwetel Ejiofor, Michael Kenneth Williams 8.078049401549453 /title/tt2024544/\n",
            "183 - 野草莓 (1957) - Starring: Ingmar Bergman (dir.), Victor Sjöström, Bibi Andersson 8.077885050358793 /title/tt0050986/\n",
            "184 - 控制 (2014) - Starring: David Fincher (dir.), Ben Affleck, Rosamund Pike 8.077562576848797 /title/tt2267998/\n",
            "185 - 越戰獵鹿人 (1978) - Starring: Michael Cimino (dir.), Robert De Niro, Christopher Walken 8.076261946363438 /title/tt0077416/\n",
            "186 - 愛在黎明破曉時 (1995) - Starring: Richard Linklater (dir.), Ethan Hawke, Julie Delpy 8.075724563081517 /title/tt0112471/\n",
            "187 - 哈利波特：死神的聖物2 (2011) - Starring: David Yates (dir.), Daniel Radcliffe, Emma Watson 8.07517058330927 /title/tt1201607/\n",
            "188 - 以父之名 (1993) - Starring: Jim Sheridan (dir.), Daniel Day-Lewis, Pete Postlethwaite 8.074956355297278 /title/tt0107207/\n",
            "189 - 華府風雲 (1939) - Starring: Frank Capra (dir.), James Stewart, Jean Arthur 8.072212426648505 /title/tt0031679/\n",
            "190 - 歡迎來到布達佩斯大飯店 (2014) - Starring: Wes Anderson (dir.), Ralph Fiennes, F. Murray Abraham 8.071785651903859 /title/tt2278388/\n",
            "191 - 恐懼的代價 (1953) - Starring: Henri-Georges Clouzot (dir.), Yves Montand, Charles Vanel 8.070490847991003 /title/tt0046268/\n",
            "192 - 少年福爾摩斯 (1924) - Starring: Buster Keaton (dir.), Buster Keaton, Kathryn McGuire 8.069985388577226 /title/tt0015324/\n",
            "193 - 不存在的房間 (2015) - Starring: Lenny Abrahamson (dir.), Brie Larson, Jacob Tremblay 8.06904367636606 /title/tt3170832/\n",
            "194 - 亂世兒女 (1975) - Starring: Stanley Kubrick (dir.), Ryan O'Neal, Marisa Berenson 8.068755875963884 /title/tt0072684/\n",
            "195 - 殺人回憶 (2003) - Starring: Bong Joon Ho (dir.), Kang-ho Song, Kim Sang-kyung 8.067921285735277 /title/tt0353969/\n",
            "196 - 第七封印 (1957) - Starring: Ingmar Bergman (dir.), Max von Sydow, Gunnar Björnstrand 8.067030840903696 /title/tt0050976/\n",
            "197 - 鋼鐵英雄 (2016) - Starring: Mel Gibson (dir.), Andrew Garfield, Sam Worthington 8.066391022890313 /title/tt2119532/\n",
            "198 - 克勞斯：聖誕節的秘密 (2019) - Starring: Sergio Pablos (dir.), Jason Schwartzman, J.K. Simmons 8.065450763775827 /title/tt4729430/\n",
            "199 - 生命中最抓狂的小事 (2014) - Starring: Damián Szifron (dir.), Darío Grandinetti, María Marull 8.065073042053161 /title/tt3011894/\n",
            "200 - 謀殺綠腳趾 (1998) - Starring: Joel Coen (dir.), Jeff Bridges, John Goodman 8.0635785292261 /title/tt0118715/\n",
            "201 - 馴龍高手 (2010) - Starring: Dean DeBlois (dir.), Jay Baruchel, Gerard Butler 8.062063265365913 /title/tt0892769/\n",
            "202 - 瘋狂麥斯：憤怒道 (2015) - Starring: George Miller (dir.), Tom Hardy, Charlize Theron 8.06127974524908 /title/tt1392190/\n",
            "203 - 巧克力情緣 (2009) - Starring: Adam Elliot (dir.), Toni Collette, Philip Seymour Hoffman 8.060505323086131 /title/tt0978762/\n",
            "204 - 大地之歌 (1955) - Starring: Satyajit Ray (dir.), Kanu Bannerjee, Karuna Bannerjee 8.058002303058318 /title/tt0048473/\n",
            "205 - 怪獸電力公司 (2001) - Starring: Pete Docter (dir.), Billy Crystal, John Goodman 8.057865700185708 /title/tt0198781/\n",
            "206 - 大白鯊 (1975) - Starring: Steven Spielberg (dir.), Roy Scheider, Robert Shaw 8.057766444140807 /title/tt0073195/\n",
            "207 - 聖女貞德蒙難記 (1928) - Starring: Carl Theodor Dreyer (dir.), Maria Falconetti, Eugene Silvain 8.057082444316292 /title/tt0019254/\n",
            "208 - 盧安達飯店 (2004) - Starring: Terry George (dir.), Don Cheadle, Sophie Okonedo 8.05390407255292 /title/tt0395169/\n",
            "209 - 東京物語 (1953) - Starring: Yasujirô Ozu (dir.), Chishû Ryû, Chieko Higashiyama 8.05220726703973 /title/tt0046438/\n",
            "210 - 春風化雨 (1989) - Starring: Peter Weir (dir.), Robin Williams, Robert Sean Leonard 8.051457617783573 /title/tt0097165/\n",
            "211 - 前進高棉 (1986) - Starring: Oliver Stone (dir.), Charlie Sheen, Tom Berenger 8.047871519946078 /title/tt0091763/\n",
            "212 - 洛基 (1976) - Starring: John G. Avildsen (dir.), Sylvester Stallone, Talia Shire 8.047271049342628 /title/tt0075148/\n",
            "213 - 賽道狂人 (2019) - Starring: James Mangold (dir.), Matt Damon, Christian Bale 8.044813840592399 /title/tt1950186/\n",
            "214 - 站在我這邊 (1986) - Starring: Rob Reiner (dir.), Wil Wheaton, River Phoenix 8.042621465861552 /title/tt0092005/\n",
            "215 - 魔鬼終結者 (1984) - Starring: James Cameron (dir.), Arnold Schwarzenegger, Linda Hamilton 8.041339327634615 /title/tt0088247/\n",
            "216 - 決戰終點線 (2013) - Starring: Ron Howard (dir.), Daniel Brühl, Chris Hemsworth 8.040324483726764 /title/tt1979320/\n",
            "217 - 驚爆焦點 (2015) - Starring: Tom McCarthy (dir.), Mark Ruffalo, Michael Keaton 8.03929246852087 /title/tt1895587/\n",
            "218 - 阿拉斯加之死 (2007) - Starring: Sean Penn (dir.), Emile Hirsch, Vince Vaughn 8.038803496842014 /title/tt0758758/\n",
            "219 - 螢光幕後 (1976) - Starring: Sidney Lumet (dir.), Faye Dunaway, William Holden 8.037212712120802 /title/tt0074958/\n",
            "220 - 綠野仙蹤 (1939) - Starring: Victor Fleming (dir.), Judy Garland, Frank Morgan 8.036228265839727 /title/tt0032138/\n",
            "221 - 羅根 (2017) - Starring: James Mangold (dir.), Hugh Jackman, Patrick Stewart 8.034415494526206 /title/tt3315342/\n",
            "222 - 今天暫時停止 (1993) - Starring: Harold Ramis (dir.), Bill Murray, Andie MacDowell 8.033129636255609 /title/tt0107048/\n",
            "223 - 料理鼠王 (2007) - Starring: Brad Bird (dir.), Brad Garrett, Lou Romano 8.030151265973657 /title/tt0382932/\n",
            "224 - 大法師 (1973) - Starring: William Friedkin (dir.), Ellen Burstyn, Max von Sydow 8.02882018511899 /title/tt0070047/\n",
            "225 - 愛在日落巴黎時 (2004) - Starring: Richard Linklater (dir.), Ethan Hawke, Julie Delpy 8.027825373752016 /title/tt0381681/\n",
            "226 - 黃金時代 (1946) - Starring: William Wyler (dir.), Myrna Loy, Dana Andrews 8.02616986271345 /title/tt0036868/\n",
            "227 - 超人特攻隊 (2004) - Starring: Brad Bird (dir.), Craig T. Nelson, Samuel L. Jackson 8.025014797728485 /title/tt0317705/\n",
            "228 - 生死問題 (1942) - Starring: Ernst Lubitsch (dir.), Carole Lombard, Jack Benny 8.023980306087319 /title/tt0035446/\n",
            "229 - 阿爾及爾之戰 (1966) - Starring: Gillo Pontecorvo (dir.), Brahim Hadjadj, Jean Martin 8.023396365923992 /title/tt0058946/\n",
            "230 - 蝴蝶夢 (1940) - Starring: Alfred Hitchcock (dir.), Laurence Olivier, Joan Fontaine 8.023091118644453 /title/tt0032976/\n",
            "231 - 怒火之花 (1940) - Starring: John Ford (dir.), Henry Fonda, Jane Darwell 8.022496109260894 /title/tt0032551/\n",
            "232 - 忠犬小八 (2009) - Starring: Lasse Hallström (dir.), Richard Gere, Joan Allen 8.021847228527244 /title/tt1028532/\n",
            "233 - 鐵窗喋血 (1967) - Starring: Stuart Rosenberg (dir.), Paul Newman, George Kennedy 8.021664792747645 /title/tt0061512/\n",
            "234 - 愛是一條狗 (2000) - Starring: Alejandro G. Iñárritu (dir.), Emilio Echevarría, Gael García Bernal 8.021623309296084 /title/tt0245712/\n",
            "235 - 德蘇烏札拉 (1975) - Starring: Akira Kurosawa (dir.), Maksim Munzuk, Yuriy Solomin 8.019093026859451 /title/tt0071411/\n",
            "236 - 吾父吾子 (2005) - Starring: Cagan Irmak (dir.), Çetin Tekindor, Fikret Kuskan 8.016504409369938 /title/tt0476735/\n",
            "237 - 四百擊 (1959) - Starring: François Truffaut (dir.), Jean-Pierre Léaud, Albert Rémy 8.016467794394575 /title/tt0053198/\n",
            "238 - 假面 (1966) - Starring: Ingmar Bergman (dir.), Bibi Andersson, Liv Ullmann 8.016124448809887 /title/tt0060827/\n",
            "239 - 神鬼奇航：鬼盜船魔咒 (2003) - Starring: Gore Verbinski (dir.), Johnny Depp, Geoffrey Rush 8.015923177310006 /title/tt0325980/\n",
            "240 - 萬世魔星 (1979) - Starring: Terry Jones (dir.), Graham Chapman, John Cleese 8.015663814544359 /title/tt0079470/\n",
            "241 - 恨 (1995) - Starring: Mathieu Kassovitz (dir.), Vincent Cassel, Hubert Koundé 8.015424615847163 /title/tt0113247/\n",
            "242 - 真善美 (1965) - Starring: Robert Wise (dir.), Julie Andrews, Christopher Plummer 8.013532694823695 /title/tt0059742/\n",
            "243 - 一夜風流 (1934) - Starring: Frank Capra (dir.), Clark Gable, Claudette Colbert 8.013376548530797 /title/tt0025316/\n",
            "244 - 下女的誘惑 (2016) - Starring: Park Chan-wook (dir.), Kim Min-hee, Ha Jung-woo 8.008719374118883 /title/tt4016934/\n",
            "245 - 甘地 (1982) - Starring: Richard Attenborough (dir.), Ben Kingsley, John Gielgud 8.00753436193082 /title/tt0083987/\n",
            "246 - 阿拉丁 (1992) - Starring: Ron Clements (dir.), Scott Weinger, Robin Williams 8.00699787709594 /title/tt0103639/\n",
            "247 - 姊妹 (2011) - Starring: Tate Taylor (dir.), Emma Stone, Viola Davis 8.005015710660704 /title/tt1454029/\n",
            "248 - 美女與野獸 (1991) - Starring: Gary Trousdale (dir.), Paige O'Hara, Robby Benson 8.004031682540747 /title/tt0101414/\n",
            "249 - 與狼共舞 (1990) - Starring: Kevin Costner (dir.), Kevin Costner, Mary McDonnell 8.001727816696715 /title/tt0099348/\n",
            "250 - 男人的爭鬥 (1955) - Starring: Jules Dassin (dir.), Jean Servais, Carl Möhner 8.001493738895897 /title/tt0048021/\n"
          ]
        }
      ],
      "source": [
        "## COMMENT: This is one exam of scraping IMDB but not what we will use since our movies are old\n",
        "from bs4 import BeautifulSoup\n",
        "import requests\n",
        "import re\n",
        " \n",
        " \n",
        "# Downloading imdb top 250 movie's data\n",
        "url = 'http://www.imdb.com/chart/top'\n",
        "response = requests.get(url)\n",
        "soup = BeautifulSoup(response.text, 'lxml')\n",
        " \n",
        "movies = soup.select('td.titleColumn')\n",
        "links = [a.attrs.get('href') for a in soup.select('td.titleColumn a')]\n",
        "crew = [a.attrs.get('title') for a in soup.select('td.titleColumn a')]\n",
        " \n",
        "ratings = [b.attrs.get('data-value')\n",
        "           for b in soup.select('td.posterColumn span[name=ir]')]\n",
        " \n",
        "votes = [b.attrs.get('data-value')\n",
        "         for b in soup.select('td.ratingColumn strong')]\n",
        " \n",
        "list = []\n",
        " \n",
        "# create a empty list for storing\n",
        "# movie information\n",
        "list = []\n",
        " \n",
        "# Iterating over movies to extract\n",
        "# each movie's details\n",
        "for index in range(0, len(movies)):\n",
        "     \n",
        "    # Separating  movie into: 'place',\n",
        "    # 'title', 'year'\n",
        "    movie_string = movies[index].get_text()\n",
        "    movie = (' '.join(movie_string.split()).replace('.', ''))\n",
        "    movie_title = movie[len(str(index))+1:-7]\n",
        "    year = re.search('\\((.*?)\\)', movie_string).group(1)\n",
        "    place = movie[:len(str(index))-(len(movie))]\n",
        "    data = {\"movie_title\": movie_title,\n",
        "            \"year\": year,\n",
        "            \"place\": place,\n",
        "            \"star_cast\": crew[index],\n",
        "            \"rating\": ratings[index],\n",
        "            \"vote\": votes[index],\n",
        "            \"link\": links[index]}\n",
        "    list.append(data)\n",
        " \n",
        "# printing movie details with its rating.\n",
        "for movie in list:\n",
        "    print(movie['place'], '-', movie['movie_title'], '('+movie['year'] +\n",
        "          ') -', 'Starring:', movie['star_cast'], movie['rating'], movie['link'])"
      ]
    },
    {
      "cell_type": "code",
      "source": [
        "from google.colab import drive \n",
        "drive.mount('/content/drive',force_remount=True) "
      ],
      "metadata": {
        "colab": {
          "base_uri": "https://localhost:8080/"
        },
        "id": "W-W-j6peDgZF",
        "outputId": "02853086-b056-424f-81f5-3d74e1649040"
      },
      "execution_count": null,
      "outputs": [
        {
          "output_type": "stream",
          "name": "stdout",
          "text": [
            "Mounted at /content/drive\n"
          ]
        }
      ]
    },
    {
      "cell_type": "code",
      "source": [
        "import os \n",
        "import pandas as pd \n",
        "\n",
        "# https://stackoverflow.com/questions/54351852/accessing-shared-with-me-with-colab -> everyone has to do this once. \n",
        "os.chdir(\"/content/drive/MyDrive/Web Mining/ml-1m\")"
      ],
      "metadata": {
        "id": "45a-5uvuHZS-"
      },
      "execution_count": null,
      "outputs": []
    },
    {
      "cell_type": "code",
      "source": [
        "# first get user information data from \"users.dat\"\n",
        "users = pd.read_csv(\"users.dat\", sep=\"::\", names=[\"UserID\", \"Gender\", \"Age\", \"Occupation\", \"Zip-code\"], skipinitialspace=True) "
      ],
      "metadata": {
        "id": "aBWuEVHsHqMV",
        "colab": {
          "base_uri": "https://localhost:8080/"
        },
        "outputId": "2052fe41-2b4d-4dfe-c4de-964b01421341"
      },
      "execution_count": null,
      "outputs": [
        {
          "output_type": "stream",
          "name": "stderr",
          "text": [
            "/usr/local/lib/python3.7/dist-packages/pandas/util/_decorators.py:311: ParserWarning: Falling back to the 'python' engine because the 'c' engine does not support regex separators (separators > 1 char and different from '\\s+' are interpreted as regex); you can avoid this warning by specifying engine='python'.\n",
            "  return func(*args, **kwargs)\n"
          ]
        }
      ]
    },
    {
      "cell_type": "code",
      "source": [
        "# there should not be null val according to README - checked\n",
        "print(users.head())\n",
        "print(users.isnull().values.any())\n",
        "print(users.shape)\n",
        "print(users.describe()) \n",
        "# TODO: We know no Null vals, next step: do analysis according to implementation plan"
      ],
      "metadata": {
        "colab": {
          "base_uri": "https://localhost:8080/"
        },
        "id": "tbG1MwKljb5c",
        "outputId": "d3749ccf-f69a-4043-89f1-57d7864368b8"
      },
      "execution_count": null,
      "outputs": [
        {
          "output_type": "stream",
          "name": "stdout",
          "text": [
            "   UserID Gender  Age  Occupation Zip-code\n",
            "0       1      F    1          10    48067\n",
            "1       2      M   56          16    70072\n",
            "2       3      M   25          15    55117\n",
            "3       4      M   45           7    02460\n",
            "4       5      M   25          20    55455\n",
            "False\n",
            "(6040, 5)\n",
            "            UserID          Age   Occupation\n",
            "count  6040.000000  6040.000000  6040.000000\n",
            "mean   3020.500000    30.639238     8.146854\n",
            "std    1743.742145    12.895962     6.329511\n",
            "min       1.000000     1.000000     0.000000\n",
            "25%    1510.750000    25.000000     3.000000\n",
            "50%    3020.500000    25.000000     7.000000\n",
            "75%    4530.250000    35.000000    14.000000\n",
            "max    6040.000000    56.000000    20.000000\n"
          ]
        }
      ]
    },
    {
      "cell_type": "code",
      "source": [
        "# get movie data from MovieLens \n",
        "# import chardet\n",
        "# chardet.detect(open(\"movies.dat\", 'rb').read())['encoding'] - encoding=\"ISO-8859-1\"\n",
        "movies = pd.read_csv(\"movies.dat\", sep=\"::\", names=[\"MovieID\", \"Title\", \"Genres\"], encoding=\"ISO-8859-1\", skipinitialspace=True) "
      ],
      "metadata": {
        "id": "BqJiGl6mj6N5",
        "colab": {
          "base_uri": "https://localhost:8080/"
        },
        "outputId": "8a5c0282-2ef7-4154-a22c-0b827ac9b33b"
      },
      "execution_count": null,
      "outputs": [
        {
          "output_type": "stream",
          "name": "stderr",
          "text": [
            "/usr/local/lib/python3.7/dist-packages/pandas/util/_decorators.py:311: ParserWarning: Falling back to the 'python' engine because the 'c' engine does not support regex separators (separators > 1 char and different from '\\s+' are interpreted as regex); you can avoid this warning by specifying engine='python'.\n",
            "  return func(*args, **kwargs)\n"
          ]
        }
      ]
    },
    {
      "cell_type": "code",
      "source": [
        "# also no missing values \n",
        "# you can see that we can get the year of movie using Regex on Title :) \n",
        "print(movies.head())\n",
        "print(movies.isnull().values.any())\n",
        "print(movies.shape)\n",
        "print(movies.describe()) \n",
        "# no IMDB ID so we need to combine them together - find only resource "
      ],
      "metadata": {
        "colab": {
          "base_uri": "https://localhost:8080/"
        },
        "id": "y5D1locNzs1X",
        "outputId": "5c4db74e-c3b8-4469-fdb8-31e02099da05"
      },
      "execution_count": null,
      "outputs": [
        {
          "output_type": "stream",
          "name": "stdout",
          "text": [
            "   MovieID                               Title                        Genres\n",
            "0        1                    Toy Story (1995)   Animation|Children's|Comedy\n",
            "1        2                      Jumanji (1995)  Adventure|Children's|Fantasy\n",
            "2        3             Grumpier Old Men (1995)                Comedy|Romance\n",
            "3        4            Waiting to Exhale (1995)                  Comedy|Drama\n",
            "4        5  Father of the Bride Part II (1995)                        Comedy\n",
            "False\n",
            "(3883, 3)\n",
            "           MovieID\n",
            "count  3883.000000\n",
            "mean   1986.049446\n",
            "std    1146.778349\n",
            "min       1.000000\n",
            "25%     982.500000\n",
            "50%    2010.000000\n",
            "75%    2980.500000\n",
            "max    3952.000000\n"
          ]
        }
      ]
    },
    {
      "cell_type": "code",
      "source": [
        "# get ratings data from \"ratings.dat\"\n",
        "ratings = pd.read_csv(\"ratings.dat\", sep=\"::\", names=[\"UserID\", \"MovieID\", \"Rating\", \"Timestamp\"], skipinitialspace=True) "
      ],
      "metadata": {
        "colab": {
          "base_uri": "https://localhost:8080/"
        },
        "id": "ppyjPWhq0UQ7",
        "outputId": "a8bf5e19-52c2-4401-8b7f-f8ec46b251fd"
      },
      "execution_count": null,
      "outputs": [
        {
          "output_type": "stream",
          "name": "stderr",
          "text": [
            "/usr/local/lib/python3.7/dist-packages/pandas/util/_decorators.py:311: ParserWarning: Falling back to the 'python' engine because the 'c' engine does not support regex separators (separators > 1 char and different from '\\s+' are interpreted as regex); you can avoid this warning by specifying engine='python'.\n",
            "  return func(*args, **kwargs)\n"
          ]
        }
      ]
    },
    {
      "cell_type": "code",
      "source": [
        "# no missing vals \n",
        "print(ratings.head())\n",
        "print(ratings.isnull().values.any())\n",
        "print(ratings.shape)\n",
        "print(ratings.describe()) "
      ],
      "metadata": {
        "colab": {
          "base_uri": "https://localhost:8080/"
        },
        "id": "IkYjaMEr5XrG",
        "outputId": "6df9b6a6-d208-4998-b795-8d42b815771a"
      },
      "execution_count": null,
      "outputs": [
        {
          "output_type": "stream",
          "name": "stdout",
          "text": [
            "   UserID  MovieID  Rating  Timestamp\n",
            "0       1     1193       5  978300760\n",
            "1       1      661       3  978302109\n",
            "2       1      914       3  978301968\n",
            "3       1     3408       4  978300275\n",
            "4       1     2355       5  978824291\n",
            "False\n",
            "(1000209, 4)\n",
            "             UserID       MovieID        Rating     Timestamp\n",
            "count  1.000209e+06  1.000209e+06  1.000209e+06  1.000209e+06\n",
            "mean   3.024512e+03  1.865540e+03  3.581564e+00  9.722437e+08\n",
            "std    1.728413e+03  1.096041e+03  1.117102e+00  1.215256e+07\n",
            "min    1.000000e+00  1.000000e+00  1.000000e+00  9.567039e+08\n",
            "25%    1.506000e+03  1.030000e+03  3.000000e+00  9.653026e+08\n",
            "50%    3.070000e+03  1.835000e+03  4.000000e+00  9.730180e+08\n",
            "75%    4.476000e+03  2.770000e+03  4.000000e+00  9.752209e+08\n",
            "max    6.040000e+03  3.952000e+03  5.000000e+00  1.046455e+09\n"
          ]
        }
      ]
    },
    {
      "cell_type": "code",
      "source": [
        "print(ratings.groupby('UserID').count()['MovieID'].describe())"
      ],
      "metadata": {
        "colab": {
          "base_uri": "https://localhost:8080/"
        },
        "id": "0tFh1Hxqtet-",
        "outputId": "dd1ec5fb-ffa7-4208-f90b-ebe4028239b6"
      },
      "execution_count": null,
      "outputs": [
        {
          "output_type": "stream",
          "name": "stdout",
          "text": [
            "count    6040.000000\n",
            "mean      165.597517\n",
            "std       192.747029\n",
            "min        20.000000\n",
            "25%        44.000000\n",
            "50%        96.000000\n",
            "75%       208.000000\n",
            "max      2314.000000\n",
            "Name: MovieID, dtype: float64\n"
          ]
        }
      ]
    },
    {
      "cell_type": "code",
      "source": [
        "data_complete = pd.merge(ratings, users, on = ('UserID'))"
      ],
      "metadata": {
        "id": "FDTIGBnFZNmL"
      },
      "execution_count": null,
      "outputs": []
    },
    {
      "cell_type": "code",
      "source": [
        "data_complete = pd.merge(data_complete, movies, on = ('MovieID'))"
      ],
      "metadata": {
        "id": "R_3lp0ByZ0Sy"
      },
      "execution_count": null,
      "outputs": []
    },
    {
      "cell_type": "markdown",
      "source": [
        ""
      ],
      "metadata": {
        "id": "wPAo9Gmt5Kq1"
      }
    },
    {
      "cell_type": "code",
      "source": [
        "data_complete"
      ],
      "metadata": {
        "colab": {
          "base_uri": "https://localhost:8080/",
          "height": 424
        },
        "id": "RP_UGlkVaTdc",
        "outputId": "c7b97d7a-110e-49cd-f30b-4e6ac61aa90f"
      },
      "execution_count": null,
      "outputs": [
        {
          "output_type": "execute_result",
          "data": {
            "text/plain": [
              "         UserID  MovieID  Rating  Timestamp Gender  Age  Occupation Zip-code  \\\n",
              "0             1     1193       5  978300760      F    1          10    48067   \n",
              "1             2     1193       5  978298413      M   56          16    70072   \n",
              "2            12     1193       4  978220179      M   25          12    32793   \n",
              "3            15     1193       4  978199279      M   25           7    22903   \n",
              "4            17     1193       5  978158471      M   50           1    95350   \n",
              "...         ...      ...     ...        ...    ...  ...         ...      ...   \n",
              "1000204    5949     2198       5  958846401      M   18          17    47901   \n",
              "1000205    5675     2703       3  976029116      M   35          14    30030   \n",
              "1000206    5780     2845       1  958153068      M   18          17    92886   \n",
              "1000207    5851     3607       5  957756608      F   18          20    55410   \n",
              "1000208    5938     2909       4  957273353      M   25           1    35401   \n",
              "\n",
              "                                               Title                Genres  \n",
              "0             One Flew Over the Cuckoo's Nest (1975)                 Drama  \n",
              "1             One Flew Over the Cuckoo's Nest (1975)                 Drama  \n",
              "2             One Flew Over the Cuckoo's Nest (1975)                 Drama  \n",
              "3             One Flew Over the Cuckoo's Nest (1975)                 Drama  \n",
              "4             One Flew Over the Cuckoo's Nest (1975)                 Drama  \n",
              "...                                              ...                   ...  \n",
              "1000204                           Modulations (1998)           Documentary  \n",
              "1000205                        Broken Vessels (1998)                 Drama  \n",
              "1000206                            White Boys (1999)                 Drama  \n",
              "1000207                     One Little Indian (1973)  Comedy|Drama|Western  \n",
              "1000208  Five Wives, Three Secretaries and Me (1998)           Documentary  \n",
              "\n",
              "[1000209 rows x 10 columns]"
            ],
            "text/html": [
              "\n",
              "  <div id=\"df-c767e58c-ffd3-445b-b9cf-16c9c4e41203\">\n",
              "    <div class=\"colab-df-container\">\n",
              "      <div>\n",
              "<style scoped>\n",
              "    .dataframe tbody tr th:only-of-type {\n",
              "        vertical-align: middle;\n",
              "    }\n",
              "\n",
              "    .dataframe tbody tr th {\n",
              "        vertical-align: top;\n",
              "    }\n",
              "\n",
              "    .dataframe thead th {\n",
              "        text-align: right;\n",
              "    }\n",
              "</style>\n",
              "<table border=\"1\" class=\"dataframe\">\n",
              "  <thead>\n",
              "    <tr style=\"text-align: right;\">\n",
              "      <th></th>\n",
              "      <th>UserID</th>\n",
              "      <th>MovieID</th>\n",
              "      <th>Rating</th>\n",
              "      <th>Timestamp</th>\n",
              "      <th>Gender</th>\n",
              "      <th>Age</th>\n",
              "      <th>Occupation</th>\n",
              "      <th>Zip-code</th>\n",
              "      <th>Title</th>\n",
              "      <th>Genres</th>\n",
              "    </tr>\n",
              "  </thead>\n",
              "  <tbody>\n",
              "    <tr>\n",
              "      <th>0</th>\n",
              "      <td>1</td>\n",
              "      <td>1193</td>\n",
              "      <td>5</td>\n",
              "      <td>978300760</td>\n",
              "      <td>F</td>\n",
              "      <td>1</td>\n",
              "      <td>10</td>\n",
              "      <td>48067</td>\n",
              "      <td>One Flew Over the Cuckoo's Nest (1975)</td>\n",
              "      <td>Drama</td>\n",
              "    </tr>\n",
              "    <tr>\n",
              "      <th>1</th>\n",
              "      <td>2</td>\n",
              "      <td>1193</td>\n",
              "      <td>5</td>\n",
              "      <td>978298413</td>\n",
              "      <td>M</td>\n",
              "      <td>56</td>\n",
              "      <td>16</td>\n",
              "      <td>70072</td>\n",
              "      <td>One Flew Over the Cuckoo's Nest (1975)</td>\n",
              "      <td>Drama</td>\n",
              "    </tr>\n",
              "    <tr>\n",
              "      <th>2</th>\n",
              "      <td>12</td>\n",
              "      <td>1193</td>\n",
              "      <td>4</td>\n",
              "      <td>978220179</td>\n",
              "      <td>M</td>\n",
              "      <td>25</td>\n",
              "      <td>12</td>\n",
              "      <td>32793</td>\n",
              "      <td>One Flew Over the Cuckoo's Nest (1975)</td>\n",
              "      <td>Drama</td>\n",
              "    </tr>\n",
              "    <tr>\n",
              "      <th>3</th>\n",
              "      <td>15</td>\n",
              "      <td>1193</td>\n",
              "      <td>4</td>\n",
              "      <td>978199279</td>\n",
              "      <td>M</td>\n",
              "      <td>25</td>\n",
              "      <td>7</td>\n",
              "      <td>22903</td>\n",
              "      <td>One Flew Over the Cuckoo's Nest (1975)</td>\n",
              "      <td>Drama</td>\n",
              "    </tr>\n",
              "    <tr>\n",
              "      <th>4</th>\n",
              "      <td>17</td>\n",
              "      <td>1193</td>\n",
              "      <td>5</td>\n",
              "      <td>978158471</td>\n",
              "      <td>M</td>\n",
              "      <td>50</td>\n",
              "      <td>1</td>\n",
              "      <td>95350</td>\n",
              "      <td>One Flew Over the Cuckoo's Nest (1975)</td>\n",
              "      <td>Drama</td>\n",
              "    </tr>\n",
              "    <tr>\n",
              "      <th>...</th>\n",
              "      <td>...</td>\n",
              "      <td>...</td>\n",
              "      <td>...</td>\n",
              "      <td>...</td>\n",
              "      <td>...</td>\n",
              "      <td>...</td>\n",
              "      <td>...</td>\n",
              "      <td>...</td>\n",
              "      <td>...</td>\n",
              "      <td>...</td>\n",
              "    </tr>\n",
              "    <tr>\n",
              "      <th>1000204</th>\n",
              "      <td>5949</td>\n",
              "      <td>2198</td>\n",
              "      <td>5</td>\n",
              "      <td>958846401</td>\n",
              "      <td>M</td>\n",
              "      <td>18</td>\n",
              "      <td>17</td>\n",
              "      <td>47901</td>\n",
              "      <td>Modulations (1998)</td>\n",
              "      <td>Documentary</td>\n",
              "    </tr>\n",
              "    <tr>\n",
              "      <th>1000205</th>\n",
              "      <td>5675</td>\n",
              "      <td>2703</td>\n",
              "      <td>3</td>\n",
              "      <td>976029116</td>\n",
              "      <td>M</td>\n",
              "      <td>35</td>\n",
              "      <td>14</td>\n",
              "      <td>30030</td>\n",
              "      <td>Broken Vessels (1998)</td>\n",
              "      <td>Drama</td>\n",
              "    </tr>\n",
              "    <tr>\n",
              "      <th>1000206</th>\n",
              "      <td>5780</td>\n",
              "      <td>2845</td>\n",
              "      <td>1</td>\n",
              "      <td>958153068</td>\n",
              "      <td>M</td>\n",
              "      <td>18</td>\n",
              "      <td>17</td>\n",
              "      <td>92886</td>\n",
              "      <td>White Boys (1999)</td>\n",
              "      <td>Drama</td>\n",
              "    </tr>\n",
              "    <tr>\n",
              "      <th>1000207</th>\n",
              "      <td>5851</td>\n",
              "      <td>3607</td>\n",
              "      <td>5</td>\n",
              "      <td>957756608</td>\n",
              "      <td>F</td>\n",
              "      <td>18</td>\n",
              "      <td>20</td>\n",
              "      <td>55410</td>\n",
              "      <td>One Little Indian (1973)</td>\n",
              "      <td>Comedy|Drama|Western</td>\n",
              "    </tr>\n",
              "    <tr>\n",
              "      <th>1000208</th>\n",
              "      <td>5938</td>\n",
              "      <td>2909</td>\n",
              "      <td>4</td>\n",
              "      <td>957273353</td>\n",
              "      <td>M</td>\n",
              "      <td>25</td>\n",
              "      <td>1</td>\n",
              "      <td>35401</td>\n",
              "      <td>Five Wives, Three Secretaries and Me (1998)</td>\n",
              "      <td>Documentary</td>\n",
              "    </tr>\n",
              "  </tbody>\n",
              "</table>\n",
              "<p>1000209 rows × 10 columns</p>\n",
              "</div>\n",
              "      <button class=\"colab-df-convert\" onclick=\"convertToInteractive('df-c767e58c-ffd3-445b-b9cf-16c9c4e41203')\"\n",
              "              title=\"Convert this dataframe to an interactive table.\"\n",
              "              style=\"display:none;\">\n",
              "        \n",
              "  <svg xmlns=\"http://www.w3.org/2000/svg\" height=\"24px\"viewBox=\"0 0 24 24\"\n",
              "       width=\"24px\">\n",
              "    <path d=\"M0 0h24v24H0V0z\" fill=\"none\"/>\n",
              "    <path d=\"M18.56 5.44l.94 2.06.94-2.06 2.06-.94-2.06-.94-.94-2.06-.94 2.06-2.06.94zm-11 1L8.5 8.5l.94-2.06 2.06-.94-2.06-.94L8.5 2.5l-.94 2.06-2.06.94zm10 10l.94 2.06.94-2.06 2.06-.94-2.06-.94-.94-2.06-.94 2.06-2.06.94z\"/><path d=\"M17.41 7.96l-1.37-1.37c-.4-.4-.92-.59-1.43-.59-.52 0-1.04.2-1.43.59L10.3 9.45l-7.72 7.72c-.78.78-.78 2.05 0 2.83L4 21.41c.39.39.9.59 1.41.59.51 0 1.02-.2 1.41-.59l7.78-7.78 2.81-2.81c.8-.78.8-2.07 0-2.86zM5.41 20L4 18.59l7.72-7.72 1.47 1.35L5.41 20z\"/>\n",
              "  </svg>\n",
              "      </button>\n",
              "      \n",
              "  <style>\n",
              "    .colab-df-container {\n",
              "      display:flex;\n",
              "      flex-wrap:wrap;\n",
              "      gap: 12px;\n",
              "    }\n",
              "\n",
              "    .colab-df-convert {\n",
              "      background-color: #E8F0FE;\n",
              "      border: none;\n",
              "      border-radius: 50%;\n",
              "      cursor: pointer;\n",
              "      display: none;\n",
              "      fill: #1967D2;\n",
              "      height: 32px;\n",
              "      padding: 0 0 0 0;\n",
              "      width: 32px;\n",
              "    }\n",
              "\n",
              "    .colab-df-convert:hover {\n",
              "      background-color: #E2EBFA;\n",
              "      box-shadow: 0px 1px 2px rgba(60, 64, 67, 0.3), 0px 1px 3px 1px rgba(60, 64, 67, 0.15);\n",
              "      fill: #174EA6;\n",
              "    }\n",
              "\n",
              "    [theme=dark] .colab-df-convert {\n",
              "      background-color: #3B4455;\n",
              "      fill: #D2E3FC;\n",
              "    }\n",
              "\n",
              "    [theme=dark] .colab-df-convert:hover {\n",
              "      background-color: #434B5C;\n",
              "      box-shadow: 0px 1px 3px 1px rgba(0, 0, 0, 0.15);\n",
              "      filter: drop-shadow(0px 1px 2px rgba(0, 0, 0, 0.3));\n",
              "      fill: #FFFFFF;\n",
              "    }\n",
              "  </style>\n",
              "\n",
              "      <script>\n",
              "        const buttonEl =\n",
              "          document.querySelector('#df-c767e58c-ffd3-445b-b9cf-16c9c4e41203 button.colab-df-convert');\n",
              "        buttonEl.style.display =\n",
              "          google.colab.kernel.accessAllowed ? 'block' : 'none';\n",
              "\n",
              "        async function convertToInteractive(key) {\n",
              "          const element = document.querySelector('#df-c767e58c-ffd3-445b-b9cf-16c9c4e41203');\n",
              "          const dataTable =\n",
              "            await google.colab.kernel.invokeFunction('convertToInteractive',\n",
              "                                                     [key], {});\n",
              "          if (!dataTable) return;\n",
              "\n",
              "          const docLinkHtml = 'Like what you see? Visit the ' +\n",
              "            '<a target=\"_blank\" href=https://colab.research.google.com/notebooks/data_table.ipynb>data table notebook</a>'\n",
              "            + ' to learn more about interactive tables.';\n",
              "          element.innerHTML = '';\n",
              "          dataTable['output_type'] = 'display_data';\n",
              "          await google.colab.output.renderOutput(dataTable, element);\n",
              "          const docLink = document.createElement('div');\n",
              "          docLink.innerHTML = docLinkHtml;\n",
              "          element.appendChild(docLink);\n",
              "        }\n",
              "      </script>\n",
              "    </div>\n",
              "  </div>\n",
              "  "
            ]
          },
          "metadata": {},
          "execution_count": 13
        }
      ]
    },
    {
      "cell_type": "code",
      "source": [
        ""
      ],
      "metadata": {
        "id": "m-q8JILwp3NS"
      },
      "execution_count": null,
      "outputs": []
    },
    {
      "cell_type": "code",
      "source": [
        ""
      ],
      "metadata": {
        "id": "-I4EtXVZp3DP"
      },
      "execution_count": null,
      "outputs": []
    },
    {
      "cell_type": "code",
      "source": [
        ""
      ],
      "metadata": {
        "id": "2SaQ3hIip22r"
      },
      "execution_count": null,
      "outputs": []
    },
    {
      "cell_type": "code",
      "source": [
        ""
      ],
      "metadata": {
        "id": "ssO99bqYp2lX"
      },
      "execution_count": null,
      "outputs": []
    }
  ]
}